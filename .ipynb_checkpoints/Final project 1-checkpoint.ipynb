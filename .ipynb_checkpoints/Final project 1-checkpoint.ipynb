{
 "cells": [
  {
   "cell_type": "code",
   "execution_count": 1,
   "metadata": {},
   "outputs": [],
   "source": [
    "import pandas as pd\n",
    "import numpy as np\n",
    "from sklearn.model_selection import train_test_split\n",
    "from sklearn.ensemble import RandomForestRegressor\n",
    "from sklearn.tree import export_graphviz\n",
    "import pydot\n",
    "import os\n",
    "os.environ[\"PATH\"] += os.pathsep + 'C:/Program Files (x86)/Graphviz2.38/bin/'\n",
    "import matplotlib.pyplot as plt\n",
    "import datetime"
   ]
  },
  {
   "cell_type": "code",
   "execution_count": 2,
   "metadata": {},
   "outputs": [],
   "source": [
    "\n",
    "# ROAD MAP:\n",
    "# 1.State the question and determine required data\n",
    "# 2.Acquire the data in an accessible format\n",
    "# 3.Identify and correct missing data points/anomalies as required\n",
    "# 4.Prepare the data for the machine learning model\n",
    "# 5.Establish a baseline model that you aim to exceed\n",
    "# 6.Train the model on the training data\n",
    "# 7.Make predictions on the test data\n",
    "# 8.Compare predictions to the known test set targets and calculate performance metrics\n",
    "# 9.If performance is not satisfactory, adjust the model, acquire more data, or try a different modeling technique\n",
    "# 10.Interpret model and report results visually and numerically\n"
   ]
  },
  {
   "cell_type": "code",
   "execution_count": 3,
   "metadata": {},
   "outputs": [
    {
     "data": {
      "text/html": [
       "<div>\n",
       "<style scoped>\n",
       "    .dataframe tbody tr th:only-of-type {\n",
       "        vertical-align: middle;\n",
       "    }\n",
       "\n",
       "    .dataframe tbody tr th {\n",
       "        vertical-align: top;\n",
       "    }\n",
       "\n",
       "    .dataframe thead th {\n",
       "        text-align: right;\n",
       "    }\n",
       "</style>\n",
       "<table border=\"1\" class=\"dataframe\">\n",
       "  <thead>\n",
       "    <tr style=\"text-align: right;\">\n",
       "      <th></th>\n",
       "      <th>G</th>\n",
       "      <th>A</th>\n",
       "      <th>E</th>\n",
       "      <th>I</th>\n",
       "      <th>PCR1</th>\n",
       "      <th>PCR2</th>\n",
       "      <th>PCR3</th>\n",
       "      <th>PCR4</th>\n",
       "      <th>PCR5</th>\n",
       "      <th>PEU1</th>\n",
       "      <th>...</th>\n",
       "      <th>CE2</th>\n",
       "      <th>CE3</th>\n",
       "      <th>CE4</th>\n",
       "      <th>CE5</th>\n",
       "      <th>UC2</th>\n",
       "      <th>UC3</th>\n",
       "      <th>UC4</th>\n",
       "      <th>UC5</th>\n",
       "      <th>BAI2</th>\n",
       "      <th>BAI3</th>\n",
       "    </tr>\n",
       "  </thead>\n",
       "  <tbody>\n",
       "    <tr>\n",
       "      <th>0</th>\n",
       "      <td>1</td>\n",
       "      <td>3</td>\n",
       "      <td>4</td>\n",
       "      <td>3</td>\n",
       "      <td>5</td>\n",
       "      <td>5</td>\n",
       "      <td>5</td>\n",
       "      <td>5</td>\n",
       "      <td>3</td>\n",
       "      <td>4</td>\n",
       "      <td>...</td>\n",
       "      <td>1</td>\n",
       "      <td>3</td>\n",
       "      <td>4</td>\n",
       "      <td>3</td>\n",
       "      <td>4</td>\n",
       "      <td>4</td>\n",
       "      <td>2</td>\n",
       "      <td>2</td>\n",
       "      <td>2</td>\n",
       "      <td>1</td>\n",
       "    </tr>\n",
       "    <tr>\n",
       "      <th>1</th>\n",
       "      <td>1</td>\n",
       "      <td>2</td>\n",
       "      <td>1</td>\n",
       "      <td>1</td>\n",
       "      <td>2</td>\n",
       "      <td>3</td>\n",
       "      <td>4</td>\n",
       "      <td>5</td>\n",
       "      <td>4</td>\n",
       "      <td>4</td>\n",
       "      <td>...</td>\n",
       "      <td>4</td>\n",
       "      <td>4</td>\n",
       "      <td>3</td>\n",
       "      <td>4</td>\n",
       "      <td>4</td>\n",
       "      <td>3</td>\n",
       "      <td>2</td>\n",
       "      <td>2</td>\n",
       "      <td>4</td>\n",
       "      <td>3</td>\n",
       "    </tr>\n",
       "    <tr>\n",
       "      <th>2</th>\n",
       "      <td>1</td>\n",
       "      <td>2</td>\n",
       "      <td>2</td>\n",
       "      <td>2</td>\n",
       "      <td>1</td>\n",
       "      <td>1</td>\n",
       "      <td>3</td>\n",
       "      <td>1</td>\n",
       "      <td>3</td>\n",
       "      <td>4</td>\n",
       "      <td>...</td>\n",
       "      <td>1</td>\n",
       "      <td>3</td>\n",
       "      <td>2</td>\n",
       "      <td>5</td>\n",
       "      <td>4</td>\n",
       "      <td>3</td>\n",
       "      <td>2</td>\n",
       "      <td>5</td>\n",
       "      <td>3</td>\n",
       "      <td>5</td>\n",
       "    </tr>\n",
       "    <tr>\n",
       "      <th>3</th>\n",
       "      <td>1</td>\n",
       "      <td>4</td>\n",
       "      <td>4</td>\n",
       "      <td>1</td>\n",
       "      <td>5</td>\n",
       "      <td>5</td>\n",
       "      <td>5</td>\n",
       "      <td>5</td>\n",
       "      <td>3</td>\n",
       "      <td>3</td>\n",
       "      <td>...</td>\n",
       "      <td>5</td>\n",
       "      <td>5</td>\n",
       "      <td>3</td>\n",
       "      <td>5</td>\n",
       "      <td>2</td>\n",
       "      <td>3</td>\n",
       "      <td>3</td>\n",
       "      <td>3</td>\n",
       "      <td>3</td>\n",
       "      <td>3</td>\n",
       "    </tr>\n",
       "    <tr>\n",
       "      <th>4</th>\n",
       "      <td>2</td>\n",
       "      <td>2</td>\n",
       "      <td>4</td>\n",
       "      <td>2</td>\n",
       "      <td>1</td>\n",
       "      <td>1</td>\n",
       "      <td>1</td>\n",
       "      <td>1</td>\n",
       "      <td>1</td>\n",
       "      <td>1</td>\n",
       "      <td>...</td>\n",
       "      <td>1</td>\n",
       "      <td>1</td>\n",
       "      <td>1</td>\n",
       "      <td>1</td>\n",
       "      <td>1</td>\n",
       "      <td>1</td>\n",
       "      <td>1</td>\n",
       "      <td>1</td>\n",
       "      <td>1</td>\n",
       "      <td>1</td>\n",
       "    </tr>\n",
       "  </tbody>\n",
       "</table>\n",
       "<p>5 rows × 26 columns</p>\n",
       "</div>"
      ],
      "text/plain": [
       "   G  A  E  I  PCR1  PCR2  PCR3  PCR4  PCR5  PEU1  ...  CE2  CE3  CE4  CE5  \\\n",
       "0  1  3  4  3     5     5     5     5     3     4  ...    1    3    4    3   \n",
       "1  1  2  1  1     2     3     4     5     4     4  ...    4    4    3    4   \n",
       "2  1  2  2  2     1     1     3     1     3     4  ...    1    3    2    5   \n",
       "3  1  4  4  1     5     5     5     5     3     3  ...    5    5    3    5   \n",
       "4  2  2  4  2     1     1     1     1     1     1  ...    1    1    1    1   \n",
       "\n",
       "   UC2  UC3  UC4  UC5  BAI2  BAI3  \n",
       "0    4    4    2    2     2     1  \n",
       "1    4    3    2    2     4     3  \n",
       "2    4    3    2    5     3     5  \n",
       "3    2    3    3    3     3     3  \n",
       "4    1    1    1    1     1     1  \n",
       "\n",
       "[5 rows x 26 columns]"
      ]
     },
     "execution_count": 3,
     "metadata": {},
     "output_type": "execute_result"
    }
   ],
   "source": [
    "# Read in data and display first 5 rows\n",
    "\n",
    "features = pd.read_csv('Survey-results-2018.csv')\n",
    "features.head(5)"
   ]
  },
  {
   "cell_type": "code",
   "execution_count": 4,
   "metadata": {},
   "outputs": [
    {
     "name": "stdout",
     "output_type": "stream",
     "text": [
      "The shape of our features is: (308, 26)\n"
     ]
    }
   ],
   "source": [
    "print('The shape of our features is:', features.shape)"
   ]
  },
  {
   "cell_type": "code",
   "execution_count": 5,
   "metadata": {},
   "outputs": [
    {
     "name": "stdout",
     "output_type": "stream",
     "text": [
      "<class 'pandas.core.frame.DataFrame'>\n",
      "RangeIndex: 308 entries, 0 to 307\n",
      "Data columns (total 26 columns):\n",
      " #   Column  Non-Null Count  Dtype\n",
      "---  ------  --------------  -----\n",
      " 0   G       308 non-null    int64\n",
      " 1   A       308 non-null    int64\n",
      " 2   E       308 non-null    int64\n",
      " 3   I       308 non-null    int64\n",
      " 4   PCR1    308 non-null    int64\n",
      " 5   PCR2    308 non-null    int64\n",
      " 6   PCR3    308 non-null    int64\n",
      " 7   PCR4    308 non-null    int64\n",
      " 8   PCR5    308 non-null    int64\n",
      " 9   PEU1    308 non-null    int64\n",
      " 10  PEU2    308 non-null    int64\n",
      " 11  PEU3    308 non-null    int64\n",
      " 12  PEU4    308 non-null    int64\n",
      " 13  PEU5    308 non-null    int64\n",
      " 14  PEU6    308 non-null    int64\n",
      " 15  CE1     308 non-null    int64\n",
      " 16  CE2     308 non-null    int64\n",
      " 17  CE3     308 non-null    int64\n",
      " 18  CE4     308 non-null    int64\n",
      " 19  CE5     308 non-null    int64\n",
      " 20  UC2     308 non-null    int64\n",
      " 21  UC3     308 non-null    int64\n",
      " 22  UC4     308 non-null    int64\n",
      " 23  UC5     308 non-null    int64\n",
      " 24  BAI2    308 non-null    int64\n",
      " 25  BAI3    308 non-null    int64\n",
      "dtypes: int64(26)\n",
      "memory usage: 62.6 KB\n"
     ]
    }
   ],
   "source": [
    "features.info()"
   ]
  },
  {
   "cell_type": "code",
   "execution_count": 6,
   "metadata": {},
   "outputs": [
    {
     "data": {
      "text/html": [
       "<div>\n",
       "<style scoped>\n",
       "    .dataframe tbody tr th:only-of-type {\n",
       "        vertical-align: middle;\n",
       "    }\n",
       "\n",
       "    .dataframe tbody tr th {\n",
       "        vertical-align: top;\n",
       "    }\n",
       "\n",
       "    .dataframe thead th {\n",
       "        text-align: right;\n",
       "    }\n",
       "</style>\n",
       "<table border=\"1\" class=\"dataframe\">\n",
       "  <thead>\n",
       "    <tr style=\"text-align: right;\">\n",
       "      <th></th>\n",
       "      <th>G</th>\n",
       "      <th>A</th>\n",
       "      <th>E</th>\n",
       "      <th>I</th>\n",
       "      <th>PCR1</th>\n",
       "      <th>PCR2</th>\n",
       "      <th>PCR3</th>\n",
       "      <th>PCR4</th>\n",
       "      <th>PCR5</th>\n",
       "      <th>PEU1</th>\n",
       "      <th>...</th>\n",
       "      <th>CE2</th>\n",
       "      <th>CE3</th>\n",
       "      <th>CE4</th>\n",
       "      <th>CE5</th>\n",
       "      <th>UC2</th>\n",
       "      <th>UC3</th>\n",
       "      <th>UC4</th>\n",
       "      <th>UC5</th>\n",
       "      <th>BAI2</th>\n",
       "      <th>BAI3</th>\n",
       "    </tr>\n",
       "  </thead>\n",
       "  <tbody>\n",
       "    <tr>\n",
       "      <th>count</th>\n",
       "      <td>308.000000</td>\n",
       "      <td>308.000000</td>\n",
       "      <td>308.000000</td>\n",
       "      <td>308.000000</td>\n",
       "      <td>308.000000</td>\n",
       "      <td>308.000000</td>\n",
       "      <td>308.000000</td>\n",
       "      <td>308.000000</td>\n",
       "      <td>308.000000</td>\n",
       "      <td>308.00000</td>\n",
       "      <td>...</td>\n",
       "      <td>308.000000</td>\n",
       "      <td>308.000000</td>\n",
       "      <td>308.000000</td>\n",
       "      <td>308.000000</td>\n",
       "      <td>308.000000</td>\n",
       "      <td>308.000000</td>\n",
       "      <td>308.000000</td>\n",
       "      <td>308.000000</td>\n",
       "      <td>308.000000</td>\n",
       "      <td>308.000000</td>\n",
       "    </tr>\n",
       "    <tr>\n",
       "      <th>mean</th>\n",
       "      <td>1.275974</td>\n",
       "      <td>2.714286</td>\n",
       "      <td>3.357143</td>\n",
       "      <td>2.633117</td>\n",
       "      <td>3.772727</td>\n",
       "      <td>3.707792</td>\n",
       "      <td>3.870130</td>\n",
       "      <td>3.461039</td>\n",
       "      <td>3.282468</td>\n",
       "      <td>3.87987</td>\n",
       "      <td>...</td>\n",
       "      <td>3.698052</td>\n",
       "      <td>2.743506</td>\n",
       "      <td>3.350649</td>\n",
       "      <td>2.753247</td>\n",
       "      <td>2.629870</td>\n",
       "      <td>2.990260</td>\n",
       "      <td>2.948052</td>\n",
       "      <td>2.915584</td>\n",
       "      <td>2.740260</td>\n",
       "      <td>3.295455</td>\n",
       "    </tr>\n",
       "    <tr>\n",
       "      <th>std</th>\n",
       "      <td>0.447731</td>\n",
       "      <td>0.946203</td>\n",
       "      <td>0.800477</td>\n",
       "      <td>1.392795</td>\n",
       "      <td>1.437165</td>\n",
       "      <td>1.438989</td>\n",
       "      <td>1.415141</td>\n",
       "      <td>1.542590</td>\n",
       "      <td>1.370258</td>\n",
       "      <td>1.14510</td>\n",
       "      <td>...</td>\n",
       "      <td>1.322468</td>\n",
       "      <td>1.405824</td>\n",
       "      <td>1.316557</td>\n",
       "      <td>1.456477</td>\n",
       "      <td>1.369521</td>\n",
       "      <td>1.009678</td>\n",
       "      <td>1.038617</td>\n",
       "      <td>1.067441</td>\n",
       "      <td>1.162975</td>\n",
       "      <td>1.234828</td>\n",
       "    </tr>\n",
       "    <tr>\n",
       "      <th>min</th>\n",
       "      <td>1.000000</td>\n",
       "      <td>1.000000</td>\n",
       "      <td>1.000000</td>\n",
       "      <td>1.000000</td>\n",
       "      <td>1.000000</td>\n",
       "      <td>1.000000</td>\n",
       "      <td>1.000000</td>\n",
       "      <td>1.000000</td>\n",
       "      <td>1.000000</td>\n",
       "      <td>1.00000</td>\n",
       "      <td>...</td>\n",
       "      <td>1.000000</td>\n",
       "      <td>1.000000</td>\n",
       "      <td>1.000000</td>\n",
       "      <td>1.000000</td>\n",
       "      <td>1.000000</td>\n",
       "      <td>1.000000</td>\n",
       "      <td>1.000000</td>\n",
       "      <td>1.000000</td>\n",
       "      <td>1.000000</td>\n",
       "      <td>1.000000</td>\n",
       "    </tr>\n",
       "    <tr>\n",
       "      <th>25%</th>\n",
       "      <td>1.000000</td>\n",
       "      <td>2.000000</td>\n",
       "      <td>3.000000</td>\n",
       "      <td>1.000000</td>\n",
       "      <td>3.000000</td>\n",
       "      <td>3.000000</td>\n",
       "      <td>3.000000</td>\n",
       "      <td>2.000000</td>\n",
       "      <td>2.000000</td>\n",
       "      <td>3.00000</td>\n",
       "      <td>...</td>\n",
       "      <td>3.000000</td>\n",
       "      <td>1.000000</td>\n",
       "      <td>3.000000</td>\n",
       "      <td>1.000000</td>\n",
       "      <td>1.000000</td>\n",
       "      <td>2.000000</td>\n",
       "      <td>2.000000</td>\n",
       "      <td>2.000000</td>\n",
       "      <td>2.000000</td>\n",
       "      <td>3.000000</td>\n",
       "    </tr>\n",
       "    <tr>\n",
       "      <th>50%</th>\n",
       "      <td>1.000000</td>\n",
       "      <td>2.000000</td>\n",
       "      <td>3.000000</td>\n",
       "      <td>2.000000</td>\n",
       "      <td>4.000000</td>\n",
       "      <td>4.000000</td>\n",
       "      <td>4.000000</td>\n",
       "      <td>4.000000</td>\n",
       "      <td>3.000000</td>\n",
       "      <td>4.00000</td>\n",
       "      <td>...</td>\n",
       "      <td>4.000000</td>\n",
       "      <td>3.000000</td>\n",
       "      <td>4.000000</td>\n",
       "      <td>3.000000</td>\n",
       "      <td>3.000000</td>\n",
       "      <td>3.000000</td>\n",
       "      <td>3.000000</td>\n",
       "      <td>3.000000</td>\n",
       "      <td>3.000000</td>\n",
       "      <td>3.000000</td>\n",
       "    </tr>\n",
       "    <tr>\n",
       "      <th>75%</th>\n",
       "      <td>2.000000</td>\n",
       "      <td>3.000000</td>\n",
       "      <td>4.000000</td>\n",
       "      <td>4.000000</td>\n",
       "      <td>5.000000</td>\n",
       "      <td>5.000000</td>\n",
       "      <td>5.000000</td>\n",
       "      <td>5.000000</td>\n",
       "      <td>4.250000</td>\n",
       "      <td>5.00000</td>\n",
       "      <td>...</td>\n",
       "      <td>5.000000</td>\n",
       "      <td>4.000000</td>\n",
       "      <td>4.000000</td>\n",
       "      <td>4.000000</td>\n",
       "      <td>4.000000</td>\n",
       "      <td>4.000000</td>\n",
       "      <td>4.000000</td>\n",
       "      <td>4.000000</td>\n",
       "      <td>4.000000</td>\n",
       "      <td>4.000000</td>\n",
       "    </tr>\n",
       "    <tr>\n",
       "      <th>max</th>\n",
       "      <td>2.000000</td>\n",
       "      <td>5.000000</td>\n",
       "      <td>6.000000</td>\n",
       "      <td>5.000000</td>\n",
       "      <td>5.000000</td>\n",
       "      <td>5.000000</td>\n",
       "      <td>5.000000</td>\n",
       "      <td>5.000000</td>\n",
       "      <td>5.000000</td>\n",
       "      <td>5.00000</td>\n",
       "      <td>...</td>\n",
       "      <td>5.000000</td>\n",
       "      <td>5.000000</td>\n",
       "      <td>5.000000</td>\n",
       "      <td>5.000000</td>\n",
       "      <td>5.000000</td>\n",
       "      <td>5.000000</td>\n",
       "      <td>5.000000</td>\n",
       "      <td>5.000000</td>\n",
       "      <td>5.000000</td>\n",
       "      <td>5.000000</td>\n",
       "    </tr>\n",
       "  </tbody>\n",
       "</table>\n",
       "<p>8 rows × 26 columns</p>\n",
       "</div>"
      ],
      "text/plain": [
       "                G           A           E           I        PCR1        PCR2  \\\n",
       "count  308.000000  308.000000  308.000000  308.000000  308.000000  308.000000   \n",
       "mean     1.275974    2.714286    3.357143    2.633117    3.772727    3.707792   \n",
       "std      0.447731    0.946203    0.800477    1.392795    1.437165    1.438989   \n",
       "min      1.000000    1.000000    1.000000    1.000000    1.000000    1.000000   \n",
       "25%      1.000000    2.000000    3.000000    1.000000    3.000000    3.000000   \n",
       "50%      1.000000    2.000000    3.000000    2.000000    4.000000    4.000000   \n",
       "75%      2.000000    3.000000    4.000000    4.000000    5.000000    5.000000   \n",
       "max      2.000000    5.000000    6.000000    5.000000    5.000000    5.000000   \n",
       "\n",
       "             PCR3        PCR4        PCR5       PEU1  ...         CE2  \\\n",
       "count  308.000000  308.000000  308.000000  308.00000  ...  308.000000   \n",
       "mean     3.870130    3.461039    3.282468    3.87987  ...    3.698052   \n",
       "std      1.415141    1.542590    1.370258    1.14510  ...    1.322468   \n",
       "min      1.000000    1.000000    1.000000    1.00000  ...    1.000000   \n",
       "25%      3.000000    2.000000    2.000000    3.00000  ...    3.000000   \n",
       "50%      4.000000    4.000000    3.000000    4.00000  ...    4.000000   \n",
       "75%      5.000000    5.000000    4.250000    5.00000  ...    5.000000   \n",
       "max      5.000000    5.000000    5.000000    5.00000  ...    5.000000   \n",
       "\n",
       "              CE3         CE4         CE5         UC2         UC3         UC4  \\\n",
       "count  308.000000  308.000000  308.000000  308.000000  308.000000  308.000000   \n",
       "mean     2.743506    3.350649    2.753247    2.629870    2.990260    2.948052   \n",
       "std      1.405824    1.316557    1.456477    1.369521    1.009678    1.038617   \n",
       "min      1.000000    1.000000    1.000000    1.000000    1.000000    1.000000   \n",
       "25%      1.000000    3.000000    1.000000    1.000000    2.000000    2.000000   \n",
       "50%      3.000000    4.000000    3.000000    3.000000    3.000000    3.000000   \n",
       "75%      4.000000    4.000000    4.000000    4.000000    4.000000    4.000000   \n",
       "max      5.000000    5.000000    5.000000    5.000000    5.000000    5.000000   \n",
       "\n",
       "              UC5        BAI2        BAI3  \n",
       "count  308.000000  308.000000  308.000000  \n",
       "mean     2.915584    2.740260    3.295455  \n",
       "std      1.067441    1.162975    1.234828  \n",
       "min      1.000000    1.000000    1.000000  \n",
       "25%      2.000000    2.000000    3.000000  \n",
       "50%      3.000000    3.000000    3.000000  \n",
       "75%      4.000000    4.000000    4.000000  \n",
       "max      5.000000    5.000000    5.000000  \n",
       "\n",
       "[8 rows x 26 columns]"
      ]
     },
     "execution_count": 6,
     "metadata": {},
     "output_type": "execute_result"
    }
   ],
   "source": [
    "# Descriptive statistics for each column\n",
    "\n",
    "features.describe()"
   ]
  },
  {
   "cell_type": "code",
   "execution_count": 7,
   "metadata": {},
   "outputs": [],
   "source": [
    "# One-hot encode the data using pandas get_dummies\n",
    "\n",
    "features = pd.get_dummies(features)"
   ]
  },
  {
   "cell_type": "code",
   "execution_count": 8,
   "metadata": {},
   "outputs": [],
   "source": [
    "# Labels are the values we want to predict\n",
    "\n",
    "labels = np.array(features['BAI2'])"
   ]
  },
  {
   "cell_type": "code",
   "execution_count": 9,
   "metadata": {},
   "outputs": [],
   "source": [
    "# Remove the labels from the features\n",
    "# axis 1 refers to the columns\n",
    "\n",
    "features= features.drop('BAI2', axis = 1)"
   ]
  },
  {
   "cell_type": "code",
   "execution_count": 10,
   "metadata": {},
   "outputs": [],
   "source": [
    "# Saving feature names for later use\n",
    "\n",
    "feature_list = list(features.columns)"
   ]
  },
  {
   "cell_type": "code",
   "execution_count": 11,
   "metadata": {},
   "outputs": [],
   "source": [
    "# Convert to numpy array\n",
    "\n",
    "features = np.array(features)"
   ]
  },
  {
   "cell_type": "code",
   "execution_count": 12,
   "metadata": {},
   "outputs": [],
   "source": [
    "# Split the data into training and testing sets\n",
    "\n",
    "train_features, test_features, train_labels, test_labels = train_test_split(features, labels, test_size = 0.25, random_state = 42)"
   ]
  },
  {
   "cell_type": "code",
   "execution_count": 13,
   "metadata": {},
   "outputs": [
    {
     "name": "stdout",
     "output_type": "stream",
     "text": [
      "Training Features Shape: (231, 25)\n",
      "Training Labels Shape: (231,)\n",
      "Testing Features Shape: (77, 25)\n",
      "Testing Labels Shape: (77,)\n"
     ]
    }
   ],
   "source": [
    "print('Training Features Shape:', train_features.shape)\n",
    "print('Training Labels Shape:', train_labels.shape)\n",
    "print('Testing Features Shape:', test_features.shape)\n",
    "print('Testing Labels Shape:', test_labels.shape)"
   ]
  },
  {
   "cell_type": "code",
   "execution_count": 14,
   "metadata": {},
   "outputs": [],
   "source": [
    "# The baseline predictions are the historical averages\n",
    "\n",
    "baseline_preds = test_features[:, feature_list.index('BAI3')]"
   ]
  },
  {
   "cell_type": "code",
   "execution_count": 15,
   "metadata": {},
   "outputs": [
    {
     "name": "stdout",
     "output_type": "stream",
     "text": [
      "Average baseline error:  0.82\n"
     ]
    }
   ],
   "source": [
    "# Baseline errors, and display average baseline error\n",
    "\n",
    "baseline_errors = abs(baseline_preds - test_labels)\n",
    "print('Average baseline error: ', round(np.mean(baseline_errors), 2))"
   ]
  },
  {
   "cell_type": "code",
   "execution_count": 16,
   "metadata": {},
   "outputs": [
    {
     "name": "stdout",
     "output_type": "stream",
     "text": [
      "Average baseline error:  1.75\n"
     ]
    }
   ],
   "source": [
    "baseline_preds = test_features[:, feature_list.index('PCR1')]\n",
    "baseline_errors = abs(baseline_preds - test_labels)\n",
    "print('Average baseline error: ', round(np.mean(baseline_errors), 2))"
   ]
  },
  {
   "cell_type": "code",
   "execution_count": 17,
   "metadata": {},
   "outputs": [
    {
     "name": "stdout",
     "output_type": "stream",
     "text": [
      "Average baseline error:  1.6\n"
     ]
    }
   ],
   "source": [
    "baseline_preds = test_features[:, feature_list.index('PCR2')]\n",
    "baseline_errors = abs(baseline_preds - test_labels)\n",
    "print('Average baseline error: ', round(np.mean(baseline_errors), 2))\n"
   ]
  },
  {
   "cell_type": "code",
   "execution_count": 18,
   "metadata": {},
   "outputs": [
    {
     "name": "stdout",
     "output_type": "stream",
     "text": [
      "Average baseline error:  1.62\n"
     ]
    }
   ],
   "source": [
    "baseline_preds = test_features[:, feature_list.index('PCR3')]\n",
    "baseline_errors = abs(baseline_preds - test_labels)\n",
    "print('Average baseline error: ', round(np.mean(baseline_errors), 2))\n"
   ]
  },
  {
   "cell_type": "code",
   "execution_count": 19,
   "metadata": {},
   "outputs": [
    {
     "name": "stdout",
     "output_type": "stream",
     "text": [
      "Average baseline error:  1.26\n"
     ]
    }
   ],
   "source": [
    "baseline_preds = test_features[:, feature_list.index('PCR5')]\n",
    "baseline_errors = abs(baseline_preds - test_labels)\n",
    "print('Average baseline error: ', round(np.mean(baseline_errors), 2))\n"
   ]
  },
  {
   "cell_type": "code",
   "execution_count": 20,
   "metadata": {},
   "outputs": [],
   "source": [
    "# Instantiate model with 1000 decision trees\n",
    "\n",
    "rf = RandomForestRegressor(n_estimators = 1000, random_state = 42)"
   ]
  },
  {
   "cell_type": "code",
   "execution_count": 21,
   "metadata": {},
   "outputs": [],
   "source": [
    "# Train the model on training data\n",
    "\n",
    "rf.fit(train_features, train_labels);"
   ]
  },
  {
   "cell_type": "code",
   "execution_count": 22,
   "metadata": {},
   "outputs": [],
   "source": [
    "# Use the forest's predict method on the test data\n",
    "\n",
    "predictions = rf.predict(test_features)"
   ]
  },
  {
   "cell_type": "code",
   "execution_count": 23,
   "metadata": {},
   "outputs": [],
   "source": [
    "# Calculate the absolute errors\n",
    "\n",
    "errors = abs(predictions - test_labels)"
   ]
  },
  {
   "cell_type": "code",
   "execution_count": 24,
   "metadata": {},
   "outputs": [
    {
     "name": "stdout",
     "output_type": "stream",
     "text": [
      "Mean Absolute Error: 0.19 degrees.\n"
     ]
    }
   ],
   "source": [
    "# Print out the mean absolute error (mae)\n",
    "\n",
    "print('Mean Absolute Error:', round(np.mean(errors), 2), 'degrees.')"
   ]
  },
  {
   "cell_type": "code",
   "execution_count": 25,
   "metadata": {},
   "outputs": [],
   "source": [
    "# Calculate mean absolute percentage error (MAPE)\n",
    "\n",
    "mape = 100 * (errors / test_labels)"
   ]
  },
  {
   "cell_type": "code",
   "execution_count": 26,
   "metadata": {},
   "outputs": [
    {
     "name": "stdout",
     "output_type": "stream",
     "text": [
      "Accuracy: 91.95 %.\n"
     ]
    }
   ],
   "source": [
    "# Calculate and display accuracy\n",
    "\n",
    "accuracy = 100 - np.mean(mape)\n",
    "print('Accuracy:', round(accuracy, 2), '%.')"
   ]
  },
  {
   "cell_type": "code",
   "execution_count": 27,
   "metadata": {},
   "outputs": [],
   "source": [
    "# Pull out one tree from the forest\n",
    "\n",
    "tree = rf.estimators_[5]"
   ]
  },
  {
   "cell_type": "code",
   "execution_count": 28,
   "metadata": {},
   "outputs": [],
   "source": [
    "# Export the image to a dot file\n",
    "\n",
    "export_graphviz(tree, out_file = 'tree.dot', feature_names = feature_list, rounded = True, precision = 1)"
   ]
  },
  {
   "cell_type": "code",
   "execution_count": 29,
   "metadata": {},
   "outputs": [],
   "source": [
    "# Use dot file to create a graph\n",
    "\n",
    "(graph, ) = pydot.graph_from_dot_file('tree.dot')"
   ]
  },
  {
   "cell_type": "code",
   "execution_count": 30,
   "metadata": {},
   "outputs": [],
   "source": [
    "# Write graph to a png file\n",
    "\n",
    "graph.write_png('tree.png')"
   ]
  },
  {
   "cell_type": "code",
   "execution_count": 31,
   "metadata": {},
   "outputs": [
    {
     "data": {
      "text/plain": [
       "RandomForestRegressor(max_depth=3, n_estimators=10)"
      ]
     },
     "execution_count": 31,
     "metadata": {},
     "output_type": "execute_result"
    }
   ],
   "source": [
    "# Limit depth of tree to 3 levels\n",
    "\n",
    "rf_small = RandomForestRegressor(n_estimators=10, max_depth = 3)\n",
    "rf_small.fit(train_features, train_labels)"
   ]
  },
  {
   "cell_type": "code",
   "execution_count": 32,
   "metadata": {},
   "outputs": [],
   "source": [
    "# Extract the small tree\n",
    "\n",
    "tree_small = rf_small.estimators_[5]"
   ]
  },
  {
   "cell_type": "code",
   "execution_count": 33,
   "metadata": {},
   "outputs": [],
   "source": [
    "# Save the tree as a png image\n",
    "\n",
    "export_graphviz(tree_small, out_file = 'small_tree.dot', feature_names = feature_list, rounded = True, precision = 1)\n",
    "(graph, ) = pydot.graph_from_dot_file('small_tree.dot')\n",
    "graph.write_png('small_tree.png');"
   ]
  },
  {
   "cell_type": "code",
   "execution_count": 34,
   "metadata": {},
   "outputs": [],
   "source": [
    "# Get numerical feature importances\n",
    "\n",
    "importances = list(rf.feature_importances_)"
   ]
  },
  {
   "cell_type": "code",
   "execution_count": 35,
   "metadata": {},
   "outputs": [],
   "source": [
    "# List of tuples with variable and importance\n",
    "\n",
    "feature_importances = [(feature, round(importance, 2)) for feature, importance in zip(feature_list, importances)]"
   ]
  },
  {
   "cell_type": "code",
   "execution_count": 36,
   "metadata": {},
   "outputs": [],
   "source": [
    "# Sort the feature importances by most important first\n",
    "\n",
    "feature_importances = sorted(feature_importances, key = lambda x: x[1], reverse = True)"
   ]
  },
  {
   "cell_type": "code",
   "execution_count": 37,
   "metadata": {},
   "outputs": [],
   "source": [
    "# #############################################################################################################################"
   ]
  },
  {
   "cell_type": "code",
   "execution_count": 38,
   "metadata": {},
   "outputs": [
    {
     "name": "stdout",
     "output_type": "stream",
     "text": [
      "Variable: BAI3                 Importance: 0.18\n",
      "Variable: PEU6                 Importance: 0.11\n",
      "Variable: UC2                  Importance: 0.06\n",
      "Variable: I                    Importance: 0.05\n",
      "Variable: PEU1                 Importance: 0.05\n",
      "Variable: CE2                  Importance: 0.05\n",
      "Variable: CE3                  Importance: 0.05\n",
      "Variable: E                    Importance: 0.04\n",
      "Variable: CE5                  Importance: 0.04\n",
      "Variable: A                    Importance: 0.03\n",
      "Variable: PCR2                 Importance: 0.03\n",
      "Variable: PEU3                 Importance: 0.03\n",
      "Variable: PEU4                 Importance: 0.03\n",
      "Variable: CE1                  Importance: 0.03\n",
      "Variable: CE4                  Importance: 0.03\n",
      "Variable: UC5                  Importance: 0.03\n",
      "Variable: G                    Importance: 0.02\n",
      "Variable: PCR4                 Importance: 0.02\n",
      "Variable: PCR5                 Importance: 0.02\n",
      "Variable: PEU2                 Importance: 0.02\n",
      "Variable: PEU5                 Importance: 0.02\n",
      "Variable: UC3                  Importance: 0.02\n",
      "Variable: UC4                  Importance: 0.02\n",
      "Variable: PCR1                 Importance: 0.01\n",
      "Variable: PCR3                 Importance: 0.01\n"
     ]
    }
   ],
   "source": [
    "# Print out the feature and importances\n",
    "\n",
    "[print('Variable: {:20} Importance: {}'.format(*pair)) for pair in feature_importances];"
   ]
  },
  {
   "cell_type": "code",
   "execution_count": 39,
   "metadata": {},
   "outputs": [],
   "source": [
    "# New random forest with only the two most important variables\n",
    "\n",
    "rf_most_important = RandomForestRegressor(n_estimators= 1000, random_state=42)"
   ]
  },
  {
   "cell_type": "code",
   "execution_count": 40,
   "metadata": {},
   "outputs": [],
   "source": [
    "# Extract the two most important features\n",
    "\n",
    "important_indices = [feature_list.index('BAI3'), feature_list.index('PEU6')]\n",
    "train_important = train_features[:, important_indices]\n",
    "test_important = test_features[:, important_indices]"
   ]
  },
  {
   "cell_type": "code",
   "execution_count": 41,
   "metadata": {},
   "outputs": [
    {
     "data": {
      "text/plain": [
       "RandomForestRegressor(n_estimators=1000, random_state=42)"
      ]
     },
     "execution_count": 41,
     "metadata": {},
     "output_type": "execute_result"
    }
   ],
   "source": [
    "# Train the random forest\n",
    "\n",
    "rf_most_important.fit(train_important, train_labels)"
   ]
  },
  {
   "cell_type": "code",
   "execution_count": 42,
   "metadata": {},
   "outputs": [],
   "source": [
    "# Make predictions and determine the error\n",
    "\n",
    "predictions = rf_most_important.predict(test_important)\n",
    "errors = abs(predictions - test_labels)"
   ]
  },
  {
   "cell_type": "code",
   "execution_count": 43,
   "metadata": {},
   "outputs": [
    {
     "name": "stdout",
     "output_type": "stream",
     "text": [
      "Mean Absolute Error: 0.72 BAI3.\n",
      "Accuracy: 66.87 %.\n"
     ]
    }
   ],
   "source": [
    "# Display the performance metrics\n",
    "\n",
    "print('Mean Absolute Error:', round(np.mean(errors), 2), 'BAI3.')\n",
    "mape = np.mean(100 * (errors / test_labels))\n",
    "accuracy = 100 - mape\n",
    "print('Accuracy:', round(accuracy, 2), '%.')"
   ]
  },
  {
   "cell_type": "code",
   "execution_count": 44,
   "metadata": {},
   "outputs": [
    {
     "data": {
      "image/png": "[encoded data removed]",
      "text/plain": [
       "<Figure size 432x288 with 1 Axes>"
      ]
     },
     "metadata": {},
     "output_type": "display_data"
    }
   ],
   "source": [
    "#%matplotlib inline\n",
    "# Set the style\n",
    "plt.style.use('fivethirtyeight')\n",
    "# list of x locations for plotting\n",
    "x_values = list(range(len(importances)))\n",
    "\n",
    "# Make a bar chart\n",
    "plt.bar(x_values, importances, orientation = 'vertical')\n",
    "\n",
    "# Tick labels for x axis\n",
    "plt.xticks(x_values, feature_list, rotation='vertical')\n",
    "\n",
    "# Axis labels and title\n",
    "plt.ylabel('Importance'); plt.xlabel('Variable'); plt.title('Variable Importances');\n"
   ]
  },
  {
   "cell_type": "code",
   "execution_count": 45,
   "metadata": {},
   "outputs": [],
   "source": [
    "# # Dates of training values\n",
    "# months = features[:, feature_list.index('month')]\n",
    "# days = features[:, feature_list.index('day')]\n",
    "# years = features[:, feature_list.index('year')]\n",
    "\n",
    "# # List and then convert to datetime object\n",
    "# dates = [str(int(year)) + '-' + str(int(month)) + '-' + str(int(day)) for year, month, day in zip(years, months, days)]\n",
    "# dates = [datetime.datetime.strptime(date, '%Y-%m-%d') for date in dates]\n",
    "\n",
    "# # Dataframe with true values and dates\n",
    "# true_data = pd.DataFrame(data = {'date': dates, 'actual': labels})\n",
    "\n",
    "# # Dates of predictions\n",
    "# months = test_features[:, feature_list.index('month')]\n",
    "# days = test_features[:, feature_list.index('day')]\n",
    "# years = test_features[:, feature_list.index('year')]\n",
    "\n",
    "# # Column of dates\n",
    "# test_dates = [str(int(year)) + '-' + str(int(month)) + '-' + str(int(day)) for year, month, day in zip(years, months, days)]\n",
    "\n",
    "# # Convert to datetime objects\n",
    "# test_dates = [datetime.datetime.strptime(date, '%Y-%m-%d') for date in test_dates]\n",
    "\n",
    "# # Dataframe with predictions and dates\n",
    "# predictions_data = pd.DataFrame(data = {'date': test_dates, 'prediction': predictions})"
   ]
  },
  {
   "cell_type": "code",
   "execution_count": 46,
   "metadata": {},
   "outputs": [],
   "source": [
    "# # Plot the actual values\n",
    "# plt.plot(true_data['date'], true_data['actual'], 'b-', label = 'actual')\n",
    "\n",
    "# # Plot the predicted values\n",
    "# plt.plot(predictions_data['date'], predictions_data['prediction'], 'ro', label = 'prediction')\n",
    "# plt.xticks(rotation = '60');\n",
    "# plt.legend()\n",
    "\n",
    "# # Graph labels\n",
    "# plt.xlabel('Date'); plt.ylabel('Maximum Temperature (F)'); plt.title('Actual and Predicted Values');"
   ]
  },
  {
   "cell_type": "code",
   "execution_count": 47,
   "metadata": {},
   "outputs": [],
   "source": [
    "# # Make the data accessible for plotting\n",
    "# true_data['USE1'] = features[:, feature_list.index('USE1')]\n",
    "# true_data['USE2'] = features[:, feature_list.index('USE2')]\n",
    "# true_data['USE3'] = features[:, feature_list.index('USE3')]\n",
    "\n",
    "# # Plot all the data as lines\n",
    "# plt.plot(true_data['date'], true_data['USE1'], 'b-', label  = 'USE1', alpha = 1.0)\n",
    "# plt.plot(true_data['date'], true_data['EOU1'], 'y-', label  = 'EOU1', alpha = 1.0)\n",
    "# plt.plot(true_data['date'], true_data['BI1'], 'k-', label = 'BI1', alpha = 0.8)\n",
    "# plt.plot(true_data['date'], true_data['ATT1'], 'r-', label = 'ATT1', alpha = 0.3)\n",
    "\n",
    "# # Formatting plot\n",
    "# plt.legend(); plt.xticks(rotation = '60');\n",
    "\n",
    "# # Lables and title\n",
    "# plt.xlabel('Date'); plt.ylabel('Maximum Temperature (F)'); plt.title('Actual Max Temp and Variables');"
   ]
  },
  {
   "cell_type": "code",
   "execution_count": null,
   "metadata": {},
   "outputs": [],
   "source": []
  }
 ],
 "metadata": {
  "kernelspec": {
   "display_name": "Python 3",
   "language": "python",
   "name": "python3"
  },
  "language_info": {
   "codemirror_mode": {
    "name": "ipython",
    "version": 3
   },
   "file_extension": ".py",
   "mimetype": "text/x-python",
   "name": "python",
   "nbconvert_exporter": "python",
   "pygments_lexer": "ipython3",
   "version": "3.8.3"
  }
 },
 "nbformat": 4,
 "nbformat_minor": 4
}
